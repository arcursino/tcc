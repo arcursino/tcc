{
 "cells": [
  {
   "cell_type": "code",
   "execution_count": 1,
   "metadata": {},
   "outputs": [],
   "source": [
    "#importando os módulos\n",
    "\n",
    "import pandas as pd\n",
    "import numpy as np\n",
    "from scipy.stats import mode\n",
    "low_memory=False\n",
    "\n",
    "import matplotlib.pyplot as plt\n",
    "import matplotlib.patches as mpatches\n",
    "%matplotlib inline"
   ]
  },
  {
   "cell_type": "code",
   "execution_count": 2,
   "metadata": {},
   "outputs": [],
   "source": [
    "#Leitura do dataset utilizado na análise\n",
    "df = pd.read_csv(r'df_per.csv', delimiter=',')"
   ]
  },
  {
   "cell_type": "code",
   "execution_count": 3,
   "metadata": {},
   "outputs": [
    {
     "data": {
      "text/html": [
       "<div>\n",
       "<style scoped>\n",
       "    .dataframe tbody tr th:only-of-type {\n",
       "        vertical-align: middle;\n",
       "    }\n",
       "\n",
       "    .dataframe tbody tr th {\n",
       "        vertical-align: top;\n",
       "    }\n",
       "\n",
       "    .dataframe thead th {\n",
       "        text-align: right;\n",
       "    }\n",
       "</style>\n",
       "<table border=\"1\" class=\"dataframe\">\n",
       "  <thead>\n",
       "    <tr style=\"text-align: right;\">\n",
       "      <th></th>\n",
       "      <th>Ano</th>\n",
       "      <th>Feminino</th>\n",
       "      <th>Masculino</th>\n",
       "    </tr>\n",
       "  </thead>\n",
       "  <tbody>\n",
       "    <tr>\n",
       "      <th>0</th>\n",
       "      <td>2009.0</td>\n",
       "      <td>20.13</td>\n",
       "      <td>79.87</td>\n",
       "    </tr>\n",
       "    <tr>\n",
       "      <th>1</th>\n",
       "      <td>2010.0</td>\n",
       "      <td>19.28</td>\n",
       "      <td>80.72</td>\n",
       "    </tr>\n",
       "    <tr>\n",
       "      <th>2</th>\n",
       "      <td>2011.0</td>\n",
       "      <td>18.68</td>\n",
       "      <td>81.32</td>\n",
       "    </tr>\n",
       "    <tr>\n",
       "      <th>3</th>\n",
       "      <td>2012.0</td>\n",
       "      <td>17.97</td>\n",
       "      <td>82.03</td>\n",
       "    </tr>\n",
       "    <tr>\n",
       "      <th>4</th>\n",
       "      <td>2013.0</td>\n",
       "      <td>17.43</td>\n",
       "      <td>82.57</td>\n",
       "    </tr>\n",
       "  </tbody>\n",
       "</table>\n",
       "</div>"
      ],
      "text/plain": [
       "      Ano  Feminino  Masculino\n",
       "0  2009.0     20.13      79.87\n",
       "1  2010.0     19.28      80.72\n",
       "2  2011.0     18.68      81.32\n",
       "3  2012.0     17.97      82.03\n",
       "4  2013.0     17.43      82.57"
      ]
     },
     "execution_count": 3,
     "metadata": {},
     "output_type": "execute_result"
    }
   ],
   "source": [
    "df.head()"
   ]
  },
  {
   "cell_type": "code",
   "execution_count": 4,
   "metadata": {},
   "outputs": [],
   "source": [
    "import seaborn as sns"
   ]
  },
  {
   "cell_type": "code",
   "execution_count": 5,
   "metadata": {},
   "outputs": [],
   "source": [
    "X = df['Ano'].values\n",
    "Y = df['Masculino'].values"
   ]
  },
  {
   "cell_type": "code",
   "execution_count": 6,
   "metadata": {},
   "outputs": [],
   "source": [
    "import statsmodels.api as sm"
   ]
  },
  {
   "cell_type": "code",
   "execution_count": 7,
   "metadata": {},
   "outputs": [],
   "source": [
    "modelo = sm.OLS(Y, X)\n",
    "resultado = modelo.fit()\n",
    "X = sm.add_constant(X)"
   ]
  },
  {
   "cell_type": "code",
   "execution_count": 8,
   "metadata": {},
   "outputs": [
    {
     "name": "stdout",
     "output_type": "stream",
     "text": [
      "                            OLS Regression Results                            \n",
      "==============================================================================\n",
      "Dep. Variable:                      y   R-squared:                       0.959\n",
      "Model:                            OLS   Adj. R-squared:                  0.954\n",
      "Method:                 Least Squares   F-statistic:                     189.2\n",
      "Date:                Sat, 21 Nov 2020   Prob (F-statistic):           7.53e-07\n",
      "Time:                        21:23:42   Log-Likelihood:                -3.4216\n",
      "No. Observations:                  10   AIC:                             10.84\n",
      "Df Residuals:                       8   BIC:                             11.45\n",
      "Df Model:                           1                                         \n",
      "Covariance Type:            nonrobust                                         \n",
      "==============================================================================\n",
      "                 coef    std err          t      P>|t|      [0.025      0.975]\n",
      "------------------------------------------------------------------------------\n",
      "const      -1014.6856     79.791    -12.717      0.000   -1198.684    -830.687\n",
      "x1             0.5450      0.040     13.754      0.000       0.454       0.636\n",
      "==============================================================================\n",
      "Omnibus:                        4.657   Durbin-Watson:                   1.108\n",
      "Prob(Omnibus):                  0.097   Jarque-Bera (JB):                1.781\n",
      "Skew:                          -1.014   Prob(JB):                        0.410\n",
      "Kurtosis:                       3.399   Cond. No.                     1.33e+06\n",
      "==============================================================================\n",
      "\n",
      "Notes:\n",
      "[1] Standard Errors assume that the covariance matrix of the errors is correctly specified.\n",
      "[2] The condition number is large, 1.33e+06. This might indicate that there are\n",
      "strong multicollinearity or other numerical problems.\n"
     ]
    },
    {
     "name": "stderr",
     "output_type": "stream",
     "text": [
      "/usr/local/lib/python3.6/site-packages/scipy/stats/stats.py:1604: UserWarning: kurtosistest only valid for n>=20 ... continuing anyway, n=10\n",
      "  \"anyway, n=%i\" % int(n))\n"
     ]
    }
   ],
   "source": [
    "modelo2 = sm.OLS(Y, X)\n",
    "resultado2 = modelo2.fit()\n",
    "print(resultado2.summary())"
   ]
  },
  {
   "cell_type": "code",
   "execution_count": 9,
   "metadata": {},
   "outputs": [],
   "source": [
    "coef_linear, coef_angular = resultado2.params\n",
    "reta = coef_angular*X+coef_linear\n",
    "X = X[:,1]\n",
    "reta = reta[:,1]"
   ]
  },
  {
   "cell_type": "code",
   "execution_count": 10,
   "metadata": {},
   "outputs": [],
   "source": [
    "from sklearn.linear_model import LinearRegression\n",
    "from sklearn.preprocessing import PolynomialFeatures"
   ]
  },
  {
   "cell_type": "code",
   "execution_count": 11,
   "metadata": {},
   "outputs": [],
   "source": [
    "caracteristicas_2= PolynomialFeatures(degree=2)\n",
    "X = X.reshape(-1, 1)\n",
    "X_Polinomio_2 = caracteristicas_2.fit_transform(X)"
   ]
  },
  {
   "cell_type": "code",
   "execution_count": 12,
   "metadata": {},
   "outputs": [],
   "source": [
    "modelo2 = LinearRegression()\n",
    "modelo2.fit(X_Polinomio_2, Y)\n",
    "Y_Polinomio_2 = modelo2.predict(X_Polinomio_2)"
   ]
  },
  {
   "cell_type": "code",
   "execution_count": 13,
   "metadata": {},
   "outputs": [
    {
     "data": {
      "image/png": "[encoded data removed]",
      "text/plain": [
       "<Figure size 432x288 with 1 Axes>"
      ]
     },
     "metadata": {
      "needs_background": "light"
     },
     "output_type": "display_data"
    }
   ],
   "source": [
    "plt.suptitle(\"Taxa de Crescimento dos Homens ao Longo dos anos\")\n",
    "plt.title(\"Regressão Polinomial e Linear\")\n",
    "plt.scatter(X,Y,color='b',edgecolors=\"dimgray\", label='Homens (%)');\n",
    "plt.plot(X,Y_Polinomio_2,color='r',label='Ajuste Polinomial grau 2');\n",
    "plt.plot(X,reta,label='Ajuste Linear',color='k');\n",
    "plt.xlabel('Ano');\n",
    "plt.ylabel('Porcentagem');\n",
    "plt.legend();"
   ]
  },
  {
   "cell_type": "code",
   "execution_count": 14,
   "metadata": {},
   "outputs": [],
   "source": [
    "from sklearn.metrics import mean_squared_error, mean_absolute_error"
   ]
  },
  {
   "cell_type": "code",
   "execution_count": 15,
   "metadata": {},
   "outputs": [
    {
     "name": "stdout",
     "output_type": "stream",
     "text": [
      "MAE = 0.26\n",
      "MAE (grau=2) = 0.1470\n",
      "RMSE = 0.34\n",
      "RMSE (grau=2) = 0.1763\n"
     ]
    }
   ],
   "source": [
    "MAE = mean_absolute_error(Y,reta)\n",
    "MAE2 = mean_absolute_error(Y,Y_Polinomio_2)\n",
    "RMSE = np.sqrt(mean_squared_error(Y,reta))\n",
    "RMSE2 = np.sqrt(mean_squared_error(Y,Y_Polinomio_2))\n",
    "\n",
    "print(\"MAE = {:0.2f}\".format(MAE))\n",
    "print(\"MAE (grau=2) = {:0.4f}\".format(MAE2))\n",
    "\n",
    "print(\"RMSE = {:0.2f}\".format(RMSE))\n",
    "print(\"RMSE (grau=2) = {:0.4f}\".format(RMSE2))"
   ]
  },
  {
   "cell_type": "code",
   "execution_count": 16,
   "metadata": {},
   "outputs": [],
   "source": [
    "from sklearn.metrics import r2_score"
   ]
  },
  {
   "cell_type": "code",
   "execution_count": 17,
   "metadata": {},
   "outputs": [
    {
     "name": "stdout",
     "output_type": "stream",
     "text": [
      "R2 (Grau 1) =  0.989135127613442\n"
     ]
    }
   ],
   "source": [
    "r2_1 = r2_score(Y,Y_Polinomio_2)\n",
    "print(\"R2 (Grau 1) = \",r2_1)"
   ]
  }
 ],
 "metadata": {
  "kernelspec": {
   "display_name": "Python 3",
   "language": "python",
   "name": "python3"
  },
  "language_info": {
   "codemirror_mode": {
    "name": "ipython",
    "version": 3
   },
   "file_extension": ".py",
   "mimetype": "text/x-python",
   "name": "python",
   "nbconvert_exporter": "python",
   "pygments_lexer": "ipython3",
   "version": "3.6.12"
  }
 },
 "nbformat": 4,
 "nbformat_minor": 4
}
