{
 "cells": [
  {
   "cell_type": "markdown",
   "metadata": {},
   "source": [
    "# Inserção das Mulheres na área de TI nos últimos 10 anos\n",
    "\n",
    "Análise de dados do número de mulheres versus o número de homens que entram nos cursos da área de Tecnologia da Informação (TI)."
   ]
  },
  {
   "cell_type": "code",
   "execution_count": 1,
   "metadata": {},
   "outputs": [],
   "source": [
    "#importando os módulos\n",
    "import pandas as pd\n",
    "low_memory=False"
   ]
  },
  {
   "cell_type": "code",
   "execution_count": 2,
   "metadata": {},
   "outputs": [],
   "source": [
    "#Leitura do dataset utilizado na análise\n",
    "df = pd.read_csv(r'df2009_df2018.csv', delimiter=',')"
   ]
  },
  {
   "cell_type": "code",
   "execution_count": 3,
   "metadata": {},
   "outputs": [
    {
     "data": {
      "text/html": [
       "<div>\n",
       "<style scoped>\n",
       "    .dataframe tbody tr th:only-of-type {\n",
       "        vertical-align: middle;\n",
       "    }\n",
       "\n",
       "    .dataframe tbody tr th {\n",
       "        vertical-align: top;\n",
       "    }\n",
       "\n",
       "    .dataframe thead th {\n",
       "        text-align: right;\n",
       "    }\n",
       "</style>\n",
       "<table border=\"1\" class=\"dataframe\">\n",
       "  <thead>\n",
       "    <tr style=\"text-align: right;\">\n",
       "      <th></th>\n",
       "      <th>IDADE</th>\n",
       "      <th>ANO</th>\n",
       "      <th>SEXO</th>\n",
       "      <th>CURSO</th>\n",
       "    </tr>\n",
       "  </thead>\n",
       "  <tbody>\n",
       "    <tr>\n",
       "      <th>0</th>\n",
       "      <td>29</td>\n",
       "      <td>2009</td>\n",
       "      <td>Masculino</td>\n",
       "      <td>ANALISE E DESENVOLVIMENTO DE SISTEMAS</td>\n",
       "    </tr>\n",
       "    <tr>\n",
       "      <th>1</th>\n",
       "      <td>21</td>\n",
       "      <td>2009</td>\n",
       "      <td>Masculino</td>\n",
       "      <td>ANALISE E DESENVOLVIMENTO DE SISTEMAS</td>\n",
       "    </tr>\n",
       "    <tr>\n",
       "      <th>2</th>\n",
       "      <td>20</td>\n",
       "      <td>2009</td>\n",
       "      <td>Masculino</td>\n",
       "      <td>COMPUTACAO</td>\n",
       "    </tr>\n",
       "    <tr>\n",
       "      <th>3</th>\n",
       "      <td>41</td>\n",
       "      <td>2009</td>\n",
       "      <td>Masculino</td>\n",
       "      <td>ANALISE E DESENVOLVIMENTO DE SISTEMAS</td>\n",
       "    </tr>\n",
       "    <tr>\n",
       "      <th>4</th>\n",
       "      <td>18</td>\n",
       "      <td>2009</td>\n",
       "      <td>Masculino</td>\n",
       "      <td>INFORMATICA</td>\n",
       "    </tr>\n",
       "  </tbody>\n",
       "</table>\n",
       "</div>"
      ],
      "text/plain": [
       "   IDADE   ANO       SEXO                                  CURSO\n",
       "0     29  2009  Masculino  ANALISE E DESENVOLVIMENTO DE SISTEMAS\n",
       "1     21  2009  Masculino  ANALISE E DESENVOLVIMENTO DE SISTEMAS\n",
       "2     20  2009  Masculino                             COMPUTACAO\n",
       "3     41  2009  Masculino  ANALISE E DESENVOLVIMENTO DE SISTEMAS\n",
       "4     18  2009  Masculino                            INFORMATICA"
      ]
     },
     "execution_count": 3,
     "metadata": {},
     "output_type": "execute_result"
    }
   ],
   "source": [
    "#Visualização das 5 primeiras linhas do dataset\n",
    "df.head()"
   ]
  },
  {
   "cell_type": "code",
   "execution_count": 4,
   "metadata": {},
   "outputs": [
    {
     "data": {
      "text/plain": [
       "SEXO\n",
       "Feminino     25\n",
       "Masculino    25\n",
       "Name: IDADE, dtype: int64"
      ]
     },
     "execution_count": 4,
     "metadata": {},
     "output_type": "execute_result"
    }
   ],
   "source": [
    "#Agrupamento da mediana - por sexo e idade\n",
    "df.groupby('SEXO')['IDADE'].median()"
   ]
  },
  {
   "cell_type": "code",
   "execution_count": 5,
   "metadata": {},
   "outputs": [
    {
     "data": {
      "text/plain": [
       "SEXO\n",
       "Feminino     26.613892\n",
       "Masculino    27.164551\n",
       "Name: IDADE, dtype: float64"
      ]
     },
     "execution_count": 5,
     "metadata": {},
     "output_type": "execute_result"
    }
   ],
   "source": [
    "#Agrupamento da média - por sexo e idade\n",
    "df.groupby('SEXO')['IDADE'].mean()"
   ]
  },
  {
   "cell_type": "code",
   "execution_count": 6,
   "metadata": {},
   "outputs": [],
   "source": [
    "#filtro dos dados por sexo\n",
    "masc = df[df['SEXO'] == 'Masculino'] \n",
    "femi = df[df['SEXO'] == 'Feminino']"
   ]
  },
  {
   "cell_type": "code",
   "execution_count": 7,
   "metadata": {},
   "outputs": [
    {
     "data": {
      "text/html": [
       "<div>\n",
       "<style scoped>\n",
       "    .dataframe tbody tr th:only-of-type {\n",
       "        vertical-align: middle;\n",
       "    }\n",
       "\n",
       "    .dataframe tbody tr th {\n",
       "        vertical-align: top;\n",
       "    }\n",
       "\n",
       "    .dataframe thead th {\n",
       "        text-align: right;\n",
       "    }\n",
       "</style>\n",
       "<table border=\"1\" class=\"dataframe\">\n",
       "  <thead>\n",
       "    <tr style=\"text-align: right;\">\n",
       "      <th></th>\n",
       "      <th>IDADE</th>\n",
       "      <th>ANO</th>\n",
       "      <th>SEXO</th>\n",
       "      <th>CURSO</th>\n",
       "    </tr>\n",
       "  </thead>\n",
       "  <tbody>\n",
       "    <tr>\n",
       "      <th>0</th>\n",
       "      <td>21</td>\n",
       "      <td>2018</td>\n",
       "      <td>Masculino</td>\n",
       "      <td>ANALISE E DESENVOLVIMENTO DE SISTEMAS</td>\n",
       "    </tr>\n",
       "  </tbody>\n",
       "</table>\n",
       "</div>"
      ],
      "text/plain": [
       "   IDADE   ANO       SEXO                                  CURSO\n",
       "0     21  2018  Masculino  ANALISE E DESENVOLVIMENTO DE SISTEMAS"
      ]
     },
     "execution_count": 7,
     "metadata": {},
     "output_type": "execute_result"
    }
   ],
   "source": [
    "#Moda da idade dos homens\n",
    "masc.mode()"
   ]
  },
  {
   "cell_type": "code",
   "execution_count": 8,
   "metadata": {},
   "outputs": [
    {
     "data": {
      "text/html": [
       "<div>\n",
       "<style scoped>\n",
       "    .dataframe tbody tr th:only-of-type {\n",
       "        vertical-align: middle;\n",
       "    }\n",
       "\n",
       "    .dataframe tbody tr th {\n",
       "        vertical-align: top;\n",
       "    }\n",
       "\n",
       "    .dataframe thead th {\n",
       "        text-align: right;\n",
       "    }\n",
       "</style>\n",
       "<table border=\"1\" class=\"dataframe\">\n",
       "  <thead>\n",
       "    <tr style=\"text-align: right;\">\n",
       "      <th></th>\n",
       "      <th>IDADE</th>\n",
       "      <th>ANO</th>\n",
       "      <th>SEXO</th>\n",
       "      <th>CURSO</th>\n",
       "    </tr>\n",
       "  </thead>\n",
       "  <tbody>\n",
       "    <tr>\n",
       "      <th>0</th>\n",
       "      <td>20</td>\n",
       "      <td>2018</td>\n",
       "      <td>Feminino</td>\n",
       "      <td>ANALISE E DESENVOLVIMENTO DE SISTEMAS</td>\n",
       "    </tr>\n",
       "  </tbody>\n",
       "</table>\n",
       "</div>"
      ],
      "text/plain": [
       "   IDADE   ANO      SEXO                                  CURSO\n",
       "0     20  2018  Feminino  ANALISE E DESENVOLVIMENTO DE SISTEMAS"
      ]
     },
     "execution_count": 8,
     "metadata": {},
     "output_type": "execute_result"
    }
   ],
   "source": [
    "#Moda da idade das mulheres\n",
    "femi.mode()"
   ]
  },
  {
   "cell_type": "code",
   "execution_count": 9,
   "metadata": {},
   "outputs": [],
   "source": [
    "#importando módulos\n",
    "import matplotlib.pyplot as plt\n",
    "%matplotlib inline"
   ]
  },
  {
   "cell_type": "code",
   "execution_count": 10,
   "metadata": {},
   "outputs": [
    {
     "data": {
      "image/png": "[encoded data removed]",
      "text/plain": [
       "<Figure size 432x288 with 1 Axes>"
      ]
     },
     "metadata": {
      "needs_background": "light"
     },
     "output_type": "display_data"
    }
   ],
   "source": [
    "#Histograma da idade \n",
    "df['IDADE'].plot(kind = 'hist', bins = 100)\n",
    "plt.suptitle(\"Histograma da Idade\")\n",
    "plt.title(\"dos alunos dos Cursos de TI\")\n",
    "plt.xlabel('Idade');\n",
    "plt.ylabel('Alunos');\n",
    "plt.legend();"
   ]
  },
  {
   "cell_type": "markdown",
   "metadata": {},
   "source": [
    "# Visualização dos Dados"
   ]
  },
  {
   "cell_type": "markdown",
   "metadata": {},
   "source": [
    "#### Gráfico 'Inserção Mulheres x Homens no Curso de TI entre os anos de 2009 a 2018 no Brasil'\n",
    "No eixo x temos os anos e no eixo y o número de alunos por sexo."
   ]
  },
  {
   "cell_type": "code",
   "execution_count": 11,
   "metadata": {},
   "outputs": [
    {
     "data": {
      "image/png": "[encoded data removed]",
      "text/plain": [
       "<Figure size 432x288 with 1 Axes>"
      ]
     },
     "metadata": {
      "needs_background": "light"
     },
     "output_type": "display_data"
    }
   ],
   "source": [
    "#Cruzamento dos dados do ano e sexo\n",
    "curso_ano = pd.crosstab(df['ANO'],df['SEXO'])\n",
    "\n",
    "#plotar o gráfico\n",
    "curso_ano.plot(kind='bar',width=0.5, color=['red','blue'], grid=False)\n",
    "plt.suptitle(\"Inserção Mulheres x Homens no Curso de TI\")\n",
    "plt.title(\"entre os anos de 2009 a 2018 no Brasil\")\n",
    "plt.xlabel('Ano');\n",
    "plt.ylabel('Alunos');\n",
    "plt.legend();"
   ]
  },
  {
   "cell_type": "code",
   "execution_count": 12,
   "metadata": {},
   "outputs": [
    {
     "name": "stdout",
     "output_type": "stream",
     "text": [
      "SEXO   Feminino  Masculino\n",
      "ANO                       \n",
      "2009  20.137499  79.862501\n",
      "2010  19.280270  80.719730\n",
      "2011  18.684501  81.315499\n",
      "2012  17.978843  82.021157\n",
      "2013  17.429347  82.570653\n",
      "2014  16.948504  83.051496\n",
      "2015  16.188637  83.811363\n",
      "2016  15.451236  84.548764\n",
      "2017  15.152549  84.847451\n",
      "2018  15.071827  84.928173\n"
     ]
    }
   ],
   "source": [
    "#Porcentagem do cruzamento do ano e sexo\n",
    "curso_ano_per = pd.crosstab(df['ANO'],df['SEXO']).apply(lambda r: r/r.sum(), axis=1) * 100\n",
    "print(curso_ano_per)"
   ]
  },
  {
   "cell_type": "code",
   "execution_count": 13,
   "metadata": {},
   "outputs": [],
   "source": [
    "#Criação de séries com os resultados do cruzamento dos dados acima\n",
    "per_2009 = pd.Series({'Ano':2009, 'Feminino':20.13, 'Masculino':79.87})\n",
    "per_2010 = pd.Series({'Ano':2010, 'Feminino':19.28, 'Masculino':80.72})\n",
    "per_2011 = pd.Series({'Ano':2011, 'Feminino':18.68, 'Masculino':81.32})\n",
    "per_2012 = pd.Series({'Ano':2012, 'Feminino':17.97, 'Masculino':82.03})\n",
    "per_2013 = pd.Series({'Ano':2013, 'Feminino':17.43, 'Masculino':82.57})\n",
    "per_2014 = pd.Series({'Ano':2014, 'Feminino':16.94, 'Masculino':83.06})\n",
    "per_2015 = pd.Series({'Ano':2015, 'Feminino':16.20, 'Masculino':83.80})\n",
    "per_2016 = pd.Series({'Ano':2016, 'Feminino':15.45, 'Masculino':84.55})\n",
    "per_2017 = pd.Series({'Ano':2017, 'Feminino':15.15, 'Masculino':84.85})\n",
    "per_2018 = pd.Series({'Ano':2019, 'Feminino':15.07, 'Masculino':84.93})"
   ]
  },
  {
   "cell_type": "code",
   "execution_count": 14,
   "metadata": {},
   "outputs": [],
   "source": [
    "#concatenação das séries em um dataframe\n",
    "df_per = pd.DataFrame([per_2009, per_2010, per_2011, per_2012, per_2013, per_2014,\n",
    "                       per_2015, per_2016, per_2017, per_2018])"
   ]
  },
  {
   "cell_type": "code",
   "execution_count": 15,
   "metadata": {},
   "outputs": [
    {
     "data": {
      "text/html": [
       "<div>\n",
       "<style scoped>\n",
       "    .dataframe tbody tr th:only-of-type {\n",
       "        vertical-align: middle;\n",
       "    }\n",
       "\n",
       "    .dataframe tbody tr th {\n",
       "        vertical-align: top;\n",
       "    }\n",
       "\n",
       "    .dataframe thead th {\n",
       "        text-align: right;\n",
       "    }\n",
       "</style>\n",
       "<table border=\"1\" class=\"dataframe\">\n",
       "  <thead>\n",
       "    <tr style=\"text-align: right;\">\n",
       "      <th></th>\n",
       "      <th>Ano</th>\n",
       "      <th>Feminino</th>\n",
       "      <th>Masculino</th>\n",
       "    </tr>\n",
       "  </thead>\n",
       "  <tbody>\n",
       "    <tr>\n",
       "      <th>Ano</th>\n",
       "      <td>1.000000</td>\n",
       "      <td>-0.979503</td>\n",
       "      <td>0.979503</td>\n",
       "    </tr>\n",
       "    <tr>\n",
       "      <th>Feminino</th>\n",
       "      <td>-0.979503</td>\n",
       "      <td>1.000000</td>\n",
       "      <td>-1.000000</td>\n",
       "    </tr>\n",
       "    <tr>\n",
       "      <th>Masculino</th>\n",
       "      <td>0.979503</td>\n",
       "      <td>-1.000000</td>\n",
       "      <td>1.000000</td>\n",
       "    </tr>\n",
       "  </tbody>\n",
       "</table>\n",
       "</div>"
      ],
      "text/plain": [
       "                Ano  Feminino  Masculino\n",
       "Ano        1.000000 -0.979503   0.979503\n",
       "Feminino  -0.979503  1.000000  -1.000000\n",
       "Masculino  0.979503 -1.000000   1.000000"
      ]
     },
     "execution_count": 15,
     "metadata": {},
     "output_type": "execute_result"
    }
   ],
   "source": [
    "#Correlação dos dados\n",
    "df_per.corr()"
   ]
  },
  {
   "cell_type": "code",
   "execution_count": 16,
   "metadata": {},
   "outputs": [
    {
     "data": {
      "text/html": [
       "<div>\n",
       "<style scoped>\n",
       "    .dataframe tbody tr th:only-of-type {\n",
       "        vertical-align: middle;\n",
       "    }\n",
       "\n",
       "    .dataframe tbody tr th {\n",
       "        vertical-align: top;\n",
       "    }\n",
       "\n",
       "    .dataframe thead th {\n",
       "        text-align: right;\n",
       "    }\n",
       "</style>\n",
       "<table border=\"1\" class=\"dataframe\">\n",
       "  <thead>\n",
       "    <tr style=\"text-align: right;\">\n",
       "      <th></th>\n",
       "      <th>Ano</th>\n",
       "      <th>Feminino</th>\n",
       "      <th>Masculino</th>\n",
       "    </tr>\n",
       "  </thead>\n",
       "  <tbody>\n",
       "    <tr>\n",
       "      <th>Ano</th>\n",
       "      <td>10.266667</td>\n",
       "      <td>-5.595556</td>\n",
       "      <td>5.595556</td>\n",
       "    </tr>\n",
       "    <tr>\n",
       "      <th>Feminino</th>\n",
       "      <td>-5.595556</td>\n",
       "      <td>3.178667</td>\n",
       "      <td>-3.178667</td>\n",
       "    </tr>\n",
       "    <tr>\n",
       "      <th>Masculino</th>\n",
       "      <td>5.595556</td>\n",
       "      <td>-3.178667</td>\n",
       "      <td>3.178667</td>\n",
       "    </tr>\n",
       "  </tbody>\n",
       "</table>\n",
       "</div>"
      ],
      "text/plain": [
       "                 Ano  Feminino  Masculino\n",
       "Ano        10.266667 -5.595556   5.595556\n",
       "Feminino   -5.595556  3.178667  -3.178667\n",
       "Masculino   5.595556 -3.178667   3.178667"
      ]
     },
     "execution_count": 16,
     "metadata": {},
     "output_type": "execute_result"
    }
   ],
   "source": [
    "#Covariância dos dados\n",
    "df_per.cov()"
   ]
  },
  {
   "cell_type": "code",
   "execution_count": 17,
   "metadata": {},
   "outputs": [],
   "source": [
    "#importando módulo\n",
    "import statsmodels.api as sm"
   ]
  },
  {
   "cell_type": "code",
   "execution_count": 18,
   "metadata": {},
   "outputs": [],
   "source": [
    "#Seta os valores de X e Y\n",
    "X = df_per['Ano'].values\n",
    "Y = df_per['Feminino'].values"
   ]
  },
  {
   "cell_type": "code",
   "execution_count": 19,
   "metadata": {},
   "outputs": [],
   "source": [
    "#Treinamento do modelo\n",
    "modelo = sm.OLS(Y, X)\n",
    "resultado = modelo.fit()\n",
    "#O statsmodels não adiciona automaticamente a constante (β0) ao modelo, portanto precisa adicionar essa constante:\n",
    "X = sm.add_constant(X)"
   ]
  },
  {
   "cell_type": "code",
   "execution_count": 20,
   "metadata": {},
   "outputs": [],
   "source": [
    "#Treinamento do novo modelo agora com a adição do Intercepto (β0)\n",
    "modelo2 = sm.OLS(Y, X)\n",
    "resultado2 = modelo2.fit()"
   ]
  },
  {
   "cell_type": "code",
   "execution_count": 21,
   "metadata": {},
   "outputs": [],
   "source": [
    "#Atribuindo o coeficiente linear e coeficiente angular em variáveis para ajustar a reta.\n",
    "coef_linear, coef_angular = resultado2.params\n",
    "reta = coef_angular*X+coef_linear\n",
    "\n",
    "#Ao adicionar a constante, uma nova coluna é adicionada[1].\n",
    "X = X[:,1]\n",
    "reta = reta[:,1]"
   ]
  },
  {
   "cell_type": "code",
   "execution_count": 22,
   "metadata": {},
   "outputs": [],
   "source": [
    "#importando os módulos\n",
    "from sklearn.linear_model import LinearRegression\n",
    "from sklearn.preprocessing import PolynomialFeatures"
   ]
  },
  {
   "cell_type": "code",
   "execution_count": 23,
   "metadata": {},
   "outputs": [],
   "source": [
    "#Fazer a regressão polinomial grau 2\n",
    "caracteristicas_2= PolynomialFeatures(degree=2)\n",
    "#Colocar no padrão que a biblioteca requere (para tirar as colunas, agora será só linha)\n",
    "X = X.reshape(-1, 1)\n",
    "#linearizar o meu X e ajustar aos novos valores\n",
    "X_Polinomio_2 = caracteristicas_2.fit_transform(X)"
   ]
  },
  {
   "cell_type": "code",
   "execution_count": 24,
   "metadata": {},
   "outputs": [],
   "source": [
    "#Lineariza o polinomio\n",
    "modelo2 = LinearRegression()\n",
    "modelo2.fit(X_Polinomio_2, Y)\n",
    "Y_Polinomio_2 = modelo2.predict(X_Polinomio_2)"
   ]
  },
  {
   "cell_type": "code",
   "execution_count": 25,
   "metadata": {},
   "outputs": [
    {
     "data": {
      "image/png": "[encoded data removed]",
      "text/plain": [
       "<Figure size 432x288 with 1 Axes>"
      ]
     },
     "metadata": {
      "needs_background": "light"
     },
     "output_type": "display_data"
    }
   ],
   "source": [
    "plt.suptitle(\"Taxa de Crescimento das Mulheres ao Longo dos anos\")\n",
    "plt.title(\"Regressão Polinomial e Linear\")\n",
    "plt.scatter(X,Y,color='b',edgecolors=\"dimgray\", label='Mulheres (%)');\n",
    "plt.plot(X,Y_Polinomio_2,color='r',label='Ajuste Polinomial grau 2');\n",
    "plt.plot(X,reta,label='Ajuste Linear',color='k');\n",
    "plt.xlabel('Ano');\n",
    "plt.ylabel('Porcentagem');\n",
    "plt.legend();"
   ]
  },
  {
   "cell_type": "code",
   "execution_count": 26,
   "metadata": {},
   "outputs": [],
   "source": [
    "#importando módulo\n",
    "from sklearn.metrics import mean_squared_error, mean_absolute_error\n",
    "import numpy as np"
   ]
  },
  {
   "cell_type": "code",
   "execution_count": 27,
   "metadata": {},
   "outputs": [],
   "source": [
    "#Erro Absoluto Médio (MAE)\n",
    "MAE = mean_absolute_error(Y,reta) #Regressão Linear\n",
    "MAE2 = mean_absolute_error(Y,Y_Polinomio_2) #Regressão Polinomial\n"
   ]
  },
  {
   "cell_type": "code",
   "execution_count": 28,
   "metadata": {},
   "outputs": [],
   "source": [
    "#Raiz do erro quadrático médio \n",
    "RMSE = np.sqrt(mean_squared_error(Y,reta)) #Regressão Linear\n",
    "RMSE2 = np.sqrt(mean_squared_error(Y,Y_Polinomio_2)) #Regressão Polinomial"
   ]
  },
  {
   "cell_type": "code",
   "execution_count": 29,
   "metadata": {},
   "outputs": [
    {
     "name": "stdout",
     "output_type": "stream",
     "text": [
      "MAE = 0.26\n",
      "MAE (grau=2) = 0.1470\n",
      "RMSE = 0.34\n",
      "RMSE (grau=2) = 0.1763\n"
     ]
    }
   ],
   "source": [
    "print(\"MAE = {:0.2f}\".format(MAE))\n",
    "print(\"MAE (grau=2) = {:0.4f}\".format(MAE2))\n",
    "\n",
    "print(\"RMSE = {:0.2f}\".format(RMSE))\n",
    "print(\"RMSE (grau=2) = {:0.4f}\".format(RMSE2))"
   ]
  },
  {
   "cell_type": "code",
   "execution_count": 30,
   "metadata": {},
   "outputs": [
    {
     "name": "stdout",
     "output_type": "stream",
     "text": [
      "                            OLS Regression Results                            \n",
      "==============================================================================\n",
      "Dep. Variable:                      y   R-squared:                       0.959\n",
      "Model:                            OLS   Adj. R-squared:                  0.954\n",
      "Method:                 Least Squares   F-statistic:                     189.2\n",
      "Date:                Mon, 25 Jan 2021   Prob (F-statistic):           7.53e-07\n",
      "Time:                        00:35:57   Log-Likelihood:                -3.4216\n",
      "No. Observations:                  10   AIC:                             10.84\n",
      "Df Residuals:                       8   BIC:                             11.45\n",
      "Df Model:                           1                                         \n",
      "Covariance Type:            nonrobust                                         \n",
      "==============================================================================\n",
      "                 coef    std err          t      P>|t|      [0.025      0.975]\n",
      "------------------------------------------------------------------------------\n",
      "const       1114.6856     79.791     13.970      0.000     930.687    1298.684\n",
      "x1            -0.5450      0.040    -13.754      0.000      -0.636      -0.454\n",
      "==============================================================================\n",
      "Omnibus:                        4.657   Durbin-Watson:                   1.108\n",
      "Prob(Omnibus):                  0.097   Jarque-Bera (JB):                1.781\n",
      "Skew:                           1.014   Prob(JB):                        0.410\n",
      "Kurtosis:                       3.399   Cond. No.                     1.33e+06\n",
      "==============================================================================\n",
      "\n",
      "Notes:\n",
      "[1] Standard Errors assume that the covariance matrix of the errors is correctly specified.\n",
      "[2] The condition number is large, 1.33e+06. This might indicate that there are\n",
      "strong multicollinearity or other numerical problems.\n"
     ]
    },
    {
     "name": "stderr",
     "output_type": "stream",
     "text": [
      "/usr/local/lib/python3.6/site-packages/scipy/stats/stats.py:1604: UserWarning: kurtosistest only valid for n>=20 ... continuing anyway, n=10\n",
      "  \"anyway, n=%i\" % int(n))\n"
     ]
    }
   ],
   "source": [
    "#R-quadrado da Regressão Linear\n",
    "#Observação: O comando summary() imprime várias métricas e coeficientes estatísticos, porém, só foi utilizado o r2.\n",
    "print(resultado2.summary())"
   ]
  },
  {
   "cell_type": "code",
   "execution_count": 31,
   "metadata": {},
   "outputs": [],
   "source": [
    "#importando módulo\n",
    "from sklearn.metrics import r2_score"
   ]
  },
  {
   "cell_type": "code",
   "execution_count": 32,
   "metadata": {},
   "outputs": [
    {
     "name": "stdout",
     "output_type": "stream",
     "text": [
      "R2 (Grau 2) =  0.9891351276144656\n"
     ]
    }
   ],
   "source": [
    "#R-quadrado da Regressão Polinomial\n",
    "r2_1 = r2_score(Y,Y_Polinomio_2)\n",
    "print(\"R2 (Grau 2) = \",r2_1)"
   ]
  },
  {
   "cell_type": "code",
   "execution_count": 33,
   "metadata": {},
   "outputs": [],
   "source": [
    "#Seta os valores de X e Y\n",
    "X = df_per['Ano'].values\n",
    "Y = df_per['Masculino'].values"
   ]
  },
  {
   "cell_type": "code",
   "execution_count": 34,
   "metadata": {},
   "outputs": [],
   "source": [
    "#Treinamento do modelo\n",
    "modelo = sm.OLS(Y, X)\n",
    "resultado = modelo.fit()\n",
    "X = sm.add_constant(X)"
   ]
  },
  {
   "cell_type": "code",
   "execution_count": 35,
   "metadata": {},
   "outputs": [
    {
     "name": "stdout",
     "output_type": "stream",
     "text": [
      "                            OLS Regression Results                            \n",
      "==============================================================================\n",
      "Dep. Variable:                      y   R-squared:                       0.959\n",
      "Model:                            OLS   Adj. R-squared:                  0.954\n",
      "Method:                 Least Squares   F-statistic:                     189.2\n",
      "Date:                Mon, 25 Jan 2021   Prob (F-statistic):           7.53e-07\n",
      "Time:                        00:35:57   Log-Likelihood:                -3.4216\n",
      "No. Observations:                  10   AIC:                             10.84\n",
      "Df Residuals:                       8   BIC:                             11.45\n",
      "Df Model:                           1                                         \n",
      "Covariance Type:            nonrobust                                         \n",
      "==============================================================================\n",
      "                 coef    std err          t      P>|t|      [0.025      0.975]\n",
      "------------------------------------------------------------------------------\n",
      "const      -1014.6856     79.791    -12.717      0.000   -1198.684    -830.687\n",
      "x1             0.5450      0.040     13.754      0.000       0.454       0.636\n",
      "==============================================================================\n",
      "Omnibus:                        4.657   Durbin-Watson:                   1.108\n",
      "Prob(Omnibus):                  0.097   Jarque-Bera (JB):                1.781\n",
      "Skew:                          -1.014   Prob(JB):                        0.410\n",
      "Kurtosis:                       3.399   Cond. No.                     1.33e+06\n",
      "==============================================================================\n",
      "\n",
      "Notes:\n",
      "[1] Standard Errors assume that the covariance matrix of the errors is correctly specified.\n",
      "[2] The condition number is large, 1.33e+06. This might indicate that there are\n",
      "strong multicollinearity or other numerical problems.\n"
     ]
    },
    {
     "name": "stderr",
     "output_type": "stream",
     "text": [
      "/usr/local/lib/python3.6/site-packages/scipy/stats/stats.py:1604: UserWarning: kurtosistest only valid for n>=20 ... continuing anyway, n=10\n",
      "  \"anyway, n=%i\" % int(n))\n"
     ]
    }
   ],
   "source": [
    "modelo2 = sm.OLS(Y, X)\n",
    "resultado2 = modelo2.fit()\n",
    "print(resultado2.summary())"
   ]
  },
  {
   "cell_type": "code",
   "execution_count": 36,
   "metadata": {},
   "outputs": [],
   "source": [
    "coef_linear, coef_angular = resultado2.params\n",
    "reta = coef_angular*X+coef_linear\n",
    "X = X[:,1]\n",
    "reta = reta[:,1]"
   ]
  },
  {
   "cell_type": "code",
   "execution_count": 37,
   "metadata": {},
   "outputs": [],
   "source": [
    "caracteristicas_2= PolynomialFeatures(degree=2)\n",
    "X = X.reshape(-1, 1)\n",
    "X_Polinomio_2 = caracteristicas_2.fit_transform(X)"
   ]
  },
  {
   "cell_type": "code",
   "execution_count": 38,
   "metadata": {},
   "outputs": [],
   "source": [
    "modelo2 = LinearRegression()\n",
    "modelo2.fit(X_Polinomio_2, Y)\n",
    "Y_Polinomio_2 = modelo2.predict(X_Polinomio_2)"
   ]
  },
  {
   "cell_type": "code",
   "execution_count": 39,
   "metadata": {},
   "outputs": [
    {
     "data": {
      "image/png": "[encoded data removed]",
      "text/plain": [
       "<Figure size 432x288 with 1 Axes>"
      ]
     },
     "metadata": {
      "needs_background": "light"
     },
     "output_type": "display_data"
    }
   ],
   "source": [
    "plt.suptitle(\"Taxa de Crescimento dos Homens ao Longo dos anos\")\n",
    "plt.title(\"Regressão Polinomial e Linear\")\n",
    "plt.scatter(X,Y,color='b',edgecolors=\"dimgray\", label='Homens (%)');\n",
    "plt.plot(X,Y_Polinomio_2,color='r',label='Ajuste Polinomial grau 2');\n",
    "plt.plot(X,reta,label='Ajuste Linear',color='k');\n",
    "plt.xlabel('Ano');\n",
    "plt.ylabel('Porcentagem');\n",
    "plt.legend();"
   ]
  },
  {
   "cell_type": "code",
   "execution_count": 40,
   "metadata": {},
   "outputs": [
    {
     "name": "stdout",
     "output_type": "stream",
     "text": [
      "MAE = 0.26\n",
      "MAE (grau=2) = 0.1470\n",
      "RMSE = 0.34\n",
      "RMSE (grau=2) = 0.1763\n"
     ]
    }
   ],
   "source": [
    "MAE = mean_absolute_error(Y,reta)\n",
    "MAE2 = mean_absolute_error(Y,Y_Polinomio_2)\n",
    "RMSE = np.sqrt(mean_squared_error(Y,reta))\n",
    "RMSE2 = np.sqrt(mean_squared_error(Y,Y_Polinomio_2))\n",
    "\n",
    "print(\"MAE = {:0.2f}\".format(MAE))\n",
    "print(\"MAE (grau=2) = {:0.4f}\".format(MAE2))\n",
    "\n",
    "print(\"RMSE = {:0.2f}\".format(RMSE))\n",
    "print(\"RMSE (grau=2) = {:0.4f}\".format(RMSE2))"
   ]
  },
  {
   "cell_type": "code",
   "execution_count": 41,
   "metadata": {},
   "outputs": [
    {
     "name": "stdout",
     "output_type": "stream",
     "text": [
      "                            OLS Regression Results                            \n",
      "==============================================================================\n",
      "Dep. Variable:                      y   R-squared:                       0.959\n",
      "Model:                            OLS   Adj. R-squared:                  0.954\n",
      "Method:                 Least Squares   F-statistic:                     189.2\n",
      "Date:                Mon, 25 Jan 2021   Prob (F-statistic):           7.53e-07\n",
      "Time:                        00:35:57   Log-Likelihood:                -3.4216\n",
      "No. Observations:                  10   AIC:                             10.84\n",
      "Df Residuals:                       8   BIC:                             11.45\n",
      "Df Model:                           1                                         \n",
      "Covariance Type:            nonrobust                                         \n",
      "==============================================================================\n",
      "                 coef    std err          t      P>|t|      [0.025      0.975]\n",
      "------------------------------------------------------------------------------\n",
      "const      -1014.6856     79.791    -12.717      0.000   -1198.684    -830.687\n",
      "x1             0.5450      0.040     13.754      0.000       0.454       0.636\n",
      "==============================================================================\n",
      "Omnibus:                        4.657   Durbin-Watson:                   1.108\n",
      "Prob(Omnibus):                  0.097   Jarque-Bera (JB):                1.781\n",
      "Skew:                          -1.014   Prob(JB):                        0.410\n",
      "Kurtosis:                       3.399   Cond. No.                     1.33e+06\n",
      "==============================================================================\n",
      "\n",
      "Notes:\n",
      "[1] Standard Errors assume that the covariance matrix of the errors is correctly specified.\n",
      "[2] The condition number is large, 1.33e+06. This might indicate that there are\n",
      "strong multicollinearity or other numerical problems.\n"
     ]
    },
    {
     "name": "stderr",
     "output_type": "stream",
     "text": [
      "/usr/local/lib/python3.6/site-packages/scipy/stats/stats.py:1604: UserWarning: kurtosistest only valid for n>=20 ... continuing anyway, n=10\n",
      "  \"anyway, n=%i\" % int(n))\n"
     ]
    }
   ],
   "source": [
    "#R-quadrado\n",
    "print(resultado2.summary())"
   ]
  },
  {
   "cell_type": "code",
   "execution_count": 42,
   "metadata": {},
   "outputs": [
    {
     "name": "stdout",
     "output_type": "stream",
     "text": [
      "R2 (Grau 2) =  0.9891351276134671\n"
     ]
    }
   ],
   "source": [
    "r2_1 = r2_score(Y,Y_Polinomio_2)\n",
    "print(\"R2 (Grau 2) = \",r2_1)"
   ]
  },
  {
   "cell_type": "code",
   "execution_count": 43,
   "metadata": {},
   "outputs": [],
   "source": [
    "#Salva o novo dataframe em .csv\n",
    "df_per.to_csv('df_per.csv', index=False)"
   ]
  }
 ],
 "metadata": {
  "kernelspec": {
   "display_name": "Python 3",
   "language": "python",
   "name": "python3"
  },
  "language_info": {
   "codemirror_mode": {
    "name": "ipython",
    "version": 3
   },
   "file_extension": ".py",
   "mimetype": "text/x-python",
   "name": "python",
   "nbconvert_exporter": "python",
   "pygments_lexer": "ipython3",
   "version": "3.6.12"
  }
 },
 "nbformat": 4,
 "nbformat_minor": 2
}
